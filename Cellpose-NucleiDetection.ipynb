{
 "cells": [
  {
   "cell_type": "markdown",
   "id": "cef83ef9",
   "metadata": {},
   "source": [
    "# Detection DAPI"
   ]
  },
  {
   "cell_type": "markdown",
   "id": "050cea39",
   "metadata": {},
   "source": [
    "## Les installations (partie 1): "
   ]
  },
  {
   "cell_type": "code",
   "execution_count": null,
   "id": "7933375a",
   "metadata": {},
   "outputs": [],
   "source": [
    "!pip install cellpose\n",
    "!pip install numpy\n",
    "!pip install matplotlib\n",
    "!pip install pandas\n",
    "!pip uninstall torch"
   ]
  },
  {
   "cell_type": "markdown",
   "id": "c6dc0344",
   "metadata": {},
   "source": [
    "## Les installations (partie 2):"
   ]
  },
  {
   "cell_type": "code",
   "execution_count": null,
   "id": "55c07e04",
   "metadata": {},
   "outputs": [],
   "source": [
    "!conda install pytorch cudatoolkit=10.2 -c pytorch\n",
    "!pip install --no-deps cellpose --upgrade"
   ]
  },
  {
   "cell_type": "markdown",
   "id": "5f5d5516",
   "metadata": {},
   "source": [
    "## Les imports:"
   ]
  },
  {
   "cell_type": "code",
   "execution_count": null,
   "id": "4ac354c7",
   "metadata": {
    "scrolled": true
   },
   "outputs": [],
   "source": [
    "from tkinter import *\n",
    "from tkinter.filedialog import askdirectory\n",
    "from tkinter.filedialog import askopenfilename\n",
    "import os\n",
    "from math import sqrt\n",
    "import re\n",
    "import matplotlib.pyplot as plt\n",
    "import glob \n",
    "import cv2 as cv # to open and view your image\n",
    "import cellpose\n",
    "from cellpose import utils, io, plot, models"
   ]
  },
  {
   "cell_type": "markdown",
   "id": "3e754354",
   "metadata": {},
   "source": [
    "## Choose your path directory / Create a Result directory"
   ]
  },
  {
   "cell_type": "code",
   "execution_count": null,
   "id": "d0456e2b",
   "metadata": {
    "scrolled": true
   },
   "outputs": [],
   "source": [
    "root = Tk()\n",
    "root.withdraw()\n",
    "\n",
    "# =============================================================================\n",
    "#Choose your path directory\n",
    "# =============================================================================\n",
    "path = askdirectory(title='Select Working Folder') # shows dialog box and return the path\n",
    "print(path)\n",
    "os.chdir(path)\n",
    "\n",
    "pathResult = path+'\\Results'\n",
    "if not os.path.exists(pathResult):\n",
    "    os.makedirs(pathResult)\n",
    "print(pathResult)\n",
    "\n",
    "# =============================================================================\n",
    "#Display files in the folder\n",
    "# =============================================================================\n",
    "\n",
    "list = os.listdir(path)\n",
    "for fichiers in list:\n",
    "    print(fichiers)"
   ]
  },
  {
   "cell_type": "markdown",
   "id": "7952d329",
   "metadata": {},
   "source": [
    "## Run detection and segmentation"
   ]
  },
  {
   "cell_type": "code",
   "execution_count": null,
   "id": "4d2a3b5f",
   "metadata": {},
   "outputs": [],
   "source": [
    "# =============================================================================\n",
    "# Run Cellpose\n",
    "# =============================================================================\n",
    "\n",
    "model = models.Cellpose(gpu=False, model_type='cyto')\n",
    "\n",
    "\n",
    "Impath = glob.glob(path+\"/*.tif\")\n",
    "for img in Impath:\n",
    "    imgs = cv.imread(img,0)\n",
    "    \n",
    "    \n",
    "   # define CHANNELS to run segementation on\n",
    "   # grayscale=0, R=1, G=2, B=3\n",
    "   # channels = [cytoplasm, nucleus]\n",
    "   # if NUCLEUS channel does not exist, set the second channel to 0\n",
    "    channels = [0,0]\n",
    "    \n",
    "    # if diameter is set to None, the size of the cells is estimated on a per image basis\n",
    "    # you can set the average cell `diameter` in pixels yourself (recommended)\n",
    "    # diameter can be a list or a single number for all images\n",
    "\n",
    "    masks, flows, styles, diams = model.eval(imgs, diameter=None, channels=channels)\n",
    "    \n",
    "\n",
    "    fig = plt.figure(figsize=(12,5))\n",
    "    plot.show_segmentation(fig, imgs, masks,flows[0],channels=channels)\n",
    "    plt.tight_layout()\n",
    "    plt.show()\n",
    "    \n",
    "    # image_name is file name of image\n",
    "    # masks is numpy array of masks for image\n",
    "    base = os.path.splitext(img)[0]\n",
    "#     outlines = utils.outlines_list(masks)\n",
    "#     io.outlines_to_text(base, outlines)\n",
    "    io.save_to_png(imgs, masks, flows, img)\n",
    "    "
   ]
  }
 ],
 "metadata": {
  "kernelspec": {
   "display_name": "Python 3 (ipykernel)",
   "language": "python",
   "name": "python3"
  },
  "language_info": {
   "codemirror_mode": {
    "name": "ipython",
    "version": 3
   },
   "file_extension": ".py",
   "mimetype": "text/x-python",
   "name": "python",
   "nbconvert_exporter": "python",
   "pygments_lexer": "ipython3",
   "version": "3.8.12"
  }
 },
 "nbformat": 4,
 "nbformat_minor": 5
}
